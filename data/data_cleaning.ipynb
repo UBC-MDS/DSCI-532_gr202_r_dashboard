{
 "cells": [
  {
   "cell_type": "markdown",
   "metadata": {},
   "source": [
    "__Data cleaning notebook__"
   ]
  },
  {
   "cell_type": "code",
   "execution_count": 1,
   "metadata": {},
   "outputs": [
    {
     "name": "stderr",
     "output_type": "stream",
     "text": [
      "── \u001b[1mAttaching packages\u001b[22m ─────────────────────────────────────── tidyverse 1.2.1 ──\n",
      "\n",
      "\u001b[32m✔\u001b[39m \u001b[34mggplot2\u001b[39m 3.2.1     \u001b[32m✔\u001b[39m \u001b[34mpurrr  \u001b[39m 0.3.3\n",
      "\u001b[32m✔\u001b[39m \u001b[34mtibble \u001b[39m 2.1.3     \u001b[32m✔\u001b[39m \u001b[34mdplyr  \u001b[39m 0.8.3\n",
      "\u001b[32m✔\u001b[39m \u001b[34mtidyr  \u001b[39m 1.0.0     \u001b[32m✔\u001b[39m \u001b[34mstringr\u001b[39m 1.4.0\n",
      "\u001b[32m✔\u001b[39m \u001b[34mreadr  \u001b[39m 1.3.1     \u001b[32m✔\u001b[39m \u001b[34mforcats\u001b[39m 0.4.0\n",
      "\n",
      "── \u001b[1mConflicts\u001b[22m ────────────────────────────────────────── tidyverse_conflicts() ──\n",
      "\u001b[31m✖\u001b[39m \u001b[34mdplyr\u001b[39m::\u001b[32mfilter()\u001b[39m masks \u001b[34mstats\u001b[39m::filter()\n",
      "\u001b[31m✖\u001b[39m \u001b[34mdplyr\u001b[39m::\u001b[32mlag()\u001b[39m    masks \u001b[34mstats\u001b[39m::lag()\n",
      "\n",
      "Registered S3 method overwritten by 'geojsonio':\n",
      "  method         from \n",
      "  print.location dplyr\n",
      "\n",
      "\n",
      "Attaching package: ‘geojsonio’\n",
      "\n",
      "\n",
      "The following object is masked from ‘package:base’:\n",
      "\n",
      "    pretty\n",
      "\n",
      "\n"
     ]
    }
   ],
   "source": [
    "library(tidyverse)\n",
    "library(geojsonio)"
   ]
  },
  {
   "cell_type": "code",
   "execution_count": 3,
   "metadata": {},
   "outputs": [],
   "source": [
    "# READ AND WRANGLE DATA BOSTON CRIME DATA\n",
    "df <- read.csv(\"crime.csv\", encoding = 'latin-1') %>% \n",
    "      select(\"OFFENSE_CODE_GROUP\", \"DISTRICT\", \"YEAR\", \"MONTH\", \"DAY_OF_WEEK\", \"HOUR\") %>%\n",
    "      mutate(DAY_OF_WEEK = factor(DAY_OF_WEEK, levels = c(\"Sunday\", \"Saturday\", \"Friday\", \"Thursday\", \"Wednesday\", \"Tuesday\", \"Monday\"))) %>%\n",
    "      mutate(HOUR = factor(HOUR)) %>%\n",
    "      filter(DISTRICT != '') %>%\n",
    "      mutate(DISTRICT = case_when(DISTRICT == 'A1' ~ 'Downtown',\n",
    "                                  DISTRICT == 'A7' ~ 'East Boston',\n",
    "                                  DISTRICT == 'A15' ~ 'Charlestown',\n",
    "                                  DISTRICT == 'B2' ~ 'Roxbury',\n",
    "                                  DISTRICT == 'B3' ~ 'Mattapan',\n",
    "                                  DISTRICT == 'C6' ~ 'South Boston',\n",
    "                                  DISTRICT == 'C11' ~ 'Dorchester',\n",
    "                                  DISTRICT == 'D4' ~ 'South End',\n",
    "                                  DISTRICT == 'D14' ~ 'Brighton',\n",
    "                                  DISTRICT == 'E5' ~ 'West Roxbury',\n",
    "                                  DISTRICT == 'E13' ~ 'Jamaica Plain',\n",
    "                                  DISTRICT == 'E18' ~ 'Hyde Park'\n",
    "                                 )) %>%\n",
    "    filter(!(YEAR == 2015 & MONTH == 6) & !(YEAR == 2018 & MONTH ==9))"
   ]
  },
  {
   "cell_type": "markdown",
   "metadata": {},
   "source": [
    "__find top 10 crime counts__"
   ]
  },
  {
   "cell_type": "code",
   "execution_count": 4,
   "metadata": {},
   "outputs": [
    {
     "data": {
      "text/html": [
       "<table>\n",
       "<caption>A tibble: 11 × 1</caption>\n",
       "<thead>\n",
       "\t<tr><th scope=col>OFFENSE_CODE_GROUP</th></tr>\n",
       "\t<tr><th scope=col>&lt;fct&gt;</th></tr>\n",
       "</thead>\n",
       "<tbody>\n",
       "\t<tr><td>Motor Vehicle Accident Response</td></tr>\n",
       "\t<tr><td>Larceny                        </td></tr>\n",
       "\t<tr><td>Medical Assistance             </td></tr>\n",
       "\t<tr><td>Investigate Person             </td></tr>\n",
       "\t<tr><td>Other                          </td></tr>\n",
       "\t<tr><td>Drug Violation                 </td></tr>\n",
       "\t<tr><td>Simple Assault                 </td></tr>\n",
       "\t<tr><td>Vandalism                      </td></tr>\n",
       "\t<tr><td>Verbal Disputes                </td></tr>\n",
       "\t<tr><td>Towed                          </td></tr>\n",
       "\t<tr><td>Investigate Property           </td></tr>\n",
       "</tbody>\n",
       "</table>\n"
      ],
      "text/latex": [
       "A tibble: 11 × 1\n",
       "\\begin{tabular}{r|l}\n",
       " OFFENSE\\_CODE\\_GROUP\\\\\n",
       " <fct>\\\\\n",
       "\\hline\n",
       "\t Motor Vehicle Accident Response\\\\\n",
       "\t Larceny                        \\\\\n",
       "\t Medical Assistance             \\\\\n",
       "\t Investigate Person             \\\\\n",
       "\t Other                          \\\\\n",
       "\t Drug Violation                 \\\\\n",
       "\t Simple Assault                 \\\\\n",
       "\t Vandalism                      \\\\\n",
       "\t Verbal Disputes                \\\\\n",
       "\t Towed                          \\\\\n",
       "\t Investigate Property           \\\\\n",
       "\\end{tabular}\n"
      ],
      "text/markdown": [
       "\n",
       "A tibble: 11 × 1\n",
       "\n",
       "| OFFENSE_CODE_GROUP &lt;fct&gt; |\n",
       "|---|\n",
       "| Motor Vehicle Accident Response |\n",
       "| Larceny                         |\n",
       "| Medical Assistance              |\n",
       "| Investigate Person              |\n",
       "| Other                           |\n",
       "| Drug Violation                  |\n",
       "| Simple Assault                  |\n",
       "| Vandalism                       |\n",
       "| Verbal Disputes                 |\n",
       "| Towed                           |\n",
       "| Investigate Property            |\n",
       "\n"
      ],
      "text/plain": [
       "   OFFENSE_CODE_GROUP             \n",
       "1  Motor Vehicle Accident Response\n",
       "2  Larceny                        \n",
       "3  Medical Assistance             \n",
       "4  Investigate Person             \n",
       "5  Other                          \n",
       "6  Drug Violation                 \n",
       "7  Simple Assault                 \n",
       "8  Vandalism                      \n",
       "9  Verbal Disputes                \n",
       "10 Towed                          \n",
       "11 Investigate Property           "
      ]
     },
     "metadata": {},
     "output_type": "display_data"
    }
   ],
   "source": [
    "df %>%\n",
    "  group_by(OFFENSE_CODE_GROUP) %>%\n",
    "  summarize(count = n()) %>%\n",
    "  arrange(desc(count)) %>%\n",
    "  head(11) %>%\n",
    "  select(OFFENSE_CODE_GROUP)"
   ]
  },
  {
   "cell_type": "markdown",
   "metadata": {},
   "source": [
    "__Select only top 10 crime types__"
   ]
  },
  {
   "cell_type": "code",
   "execution_count": 7,
   "metadata": {},
   "outputs": [],
   "source": [
    "df <- df %>%\n",
    "    filter(OFFENSE_CODE_GROUP == 'Motor Vehicle Accident Response' |\n",
    "           OFFENSE_CODE_GROUP == 'Larceny' |\n",
    "           OFFENSE_CODE_GROUP == 'Medical Assistance' |\n",
    "           OFFENSE_CODE_GROUP == 'Investigate Person' |\n",
    "           OFFENSE_CODE_GROUP == 'Drug Violation' |\n",
    "           OFFENSE_CODE_GROUP == 'Simple Assault' |\n",
    "           OFFENSE_CODE_GROUP == 'Vandalism' |\n",
    "           OFFENSE_CODE_GROUP == 'Verbal Disputes' |\n",
    "           OFFENSE_CODE_GROUP == 'Towed' |\n",
    "           OFFENSE_CODE_GROUP == 'Investigate Property' \n",
    "          )"
   ]
  },
  {
   "cell_type": "code",
   "execution_count": 9,
   "metadata": {},
   "outputs": [],
   "source": [
    "write_csv(df, 'crime_cleaned.csv')"
   ]
  },
  {
   "cell_type": "markdown",
   "metadata": {},
   "source": [
    "__import and clean geojson file__"
   ]
  },
  {
   "cell_type": "code",
   "execution_count": null,
   "metadata": {},
   "outputs": [],
   "source": [
    "geodf <- geojson_read('data/Boston_Neighborhoods.geojson',  what = \"sp\")\n",
    "suppressWarnings(geodf_fortified <- tidy(geodf))\n",
    "geodf_fortified <- geodf_fortified %>% \n",
    "                    mutate(id = str_replace(id, \"15\", \"Downtown\"), \n",
    "                    id =  str_replace(id, \"11\", \"East Boston\"),\n",
    "                    id =  str_replace(id, \"12\", \"Charlestown\"),\n",
    "                    id =  str_replace(id, \"8\", \"Roxbury\"),\n",
    "                    id =  str_replace(id, \"20\", \"Mattapan\"),\n",
    "                    id =  str_replace(id, \"23\", \"South Boston\"),\n",
    "                    id =  str_replace(id, \"21\", \"Dorchester\"),\n",
    "                    id =  str_replace(id, \"9\", \"South End\"),\n",
    "                    id =  str_replace(id, \"17\", \"Brighton\"),\n",
    "                    id =  str_replace(id, \"18\", \"West Roxbury\"),\n",
    "                    id =  str_replace(id, \"1\", \"Jamaica Plain\"),\n",
    "                    id =  str_replace(id, \"19\", \"Hyde Park\")) \n",
    "write_csv(geodf_fortified, 'data/geo_fortified.csv')"
   ]
  }
 ],
 "metadata": {
  "kernelspec": {
   "display_name": "R",
   "language": "R",
   "name": "ir"
  },
  "language_info": {
   "codemirror_mode": "r",
   "file_extension": ".r",
   "mimetype": "text/x-r-source",
   "name": "R",
   "pygments_lexer": "r",
   "version": "3.6.1"
  }
 },
 "nbformat": 4,
 "nbformat_minor": 4
}
